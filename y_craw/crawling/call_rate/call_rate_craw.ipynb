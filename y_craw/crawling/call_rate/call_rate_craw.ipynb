{
 "cells": [
  {
   "cell_type": "code",
   "execution_count": 2,
   "metadata": {},
   "outputs": [],
   "source": [
    "import requests\n",
    "import json\n",
    "import pandas as pd\n",
    "from bs4 import BeautifulSoup"
   ]
  },
  {
   "cell_type": "code",
   "execution_count": null,
   "metadata": {},
   "outputs": [],
   "source": [
    "datas = []\n",
    "for page in range(1, 365 + 1):  # 365 + 1, 1\n",
    "    URL = f'https://m.stock.naver.com/front-api/v1/marketIndex/prices?category=domesticInterest&reutersCode=KRCALLBOKK&page={page}'\n",
    "    response = requests.get(URL)\n",
    "    datas.append(json.loads( response.text ))\n",
    "datas"
   ]
  },
  {
   "cell_type": "code",
   "execution_count": 3,
   "metadata": {},
   "outputs": [
    {
     "name": "stdout",
     "output_type": "stream",
     "text": [
      "날짜,종가,등락률\n"
     ]
    }
   ],
   "source": [
    "rates = []\n",
    "for data in datas:\n",
    "    for rate in data['result']:\n",
    "        rates.append({\n",
    "            '날짜': rate['localTradedAt'].split(':')[0][:-3],\n",
    "            '종가': rate['closePrice'],\n",
    "            # '등락률': rate['fluctuationsRatio'],\n",
    "        })\n",
    "\n",
    "columns = ','.join(rates[0].keys())\n",
    "print(columns)\n",
    "columns = ['날짜', '종가']\n",
    "values = []\n",
    "for rate in rates:\n",
    "    values.append(tuple(rate.values()))\n",
    "\n",
    "f = open('call_rate.csv', 'w', encoding='utf-8')\n",
    "f.write('날짜\\t종가\\n')\n",
    "for rate in rates:\n",
    "    f.write(rate['날짜'] + '\\t' + rate['종가'] + '\\n' )\n",
    "\n",
    "f.close()"
   ]
  },
  {
   "cell_type": "code",
   "execution_count": null,
   "metadata": {},
   "outputs": [],
   "source": []
  }
 ],
 "metadata": {
  "kernelspec": {
   "display_name": "base",
   "language": "python",
   "name": "python3"
  },
  "language_info": {
   "codemirror_mode": {
    "name": "ipython",
    "version": 3
   },
   "file_extension": ".py",
   "mimetype": "text/x-python",
   "name": "python",
   "nbconvert_exporter": "python",
   "pygments_lexer": "ipython3",
   "version": "3.11.5"
  }
 },
 "nbformat": 4,
 "nbformat_minor": 2
}
