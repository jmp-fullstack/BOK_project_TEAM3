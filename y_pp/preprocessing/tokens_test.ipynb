{
 "cells": [
  {
   "cell_type": "code",
   "execution_count": 28,
   "metadata": {},
   "outputs": [],
   "source": [
    "# from konlpy.tag import Mecab\n",
    "# mecab = Mecab(dicpath=r\"C:\\mecab\\mecab-ko-dic\")"
   ]
  },
  {
   "cell_type": "code",
   "execution_count": 21,
   "metadata": {},
   "outputs": [],
   "source": [
    "# f = open('debenture_data.csv', 'r', encoding='utf-8')\n",
    "# news = f.read()\n",
    "\n",
    "# f.close()"
   ]
  },
  {
   "cell_type": "code",
   "execution_count": null,
   "metadata": {},
   "outputs": [],
   "source": [
    "# df = pd.read_json(\"news_test.json\")\n",
    "# df = df.sort_values(by=[\"date\"], ascending=False)\n",
    "# # 데이터프레임 확인\n",
    "# print(df)"
   ]
  },
  {
   "cell_type": "code",
   "execution_count": 24,
   "metadata": {},
   "outputs": [],
   "source": [
    "def preprocess_and_tokenize(text):\n",
    "\n",
    "    tokens = [token for token in mecab.pos(text) if token[1] in ['NNG','NNP', 'VV', 'VA', 'VX']]\n",
    "    \n",
    "    return tokens\n",
    "# \"date\"를 기준으로 그룹화하여 각 그룹에 대해 토큰화 작업 수행\n",
    "grouped_tokens = df.groupby(\"date\")[\"content\"].apply(lambda x: [preprocess_and_tokenize(news) for news in x])"
   ]
  },
  {
   "cell_type": "code",
   "execution_count": null,
   "metadata": {},
   "outputs": [],
   "source": [
    "# # 결과 출력 (예시)\n",
    "# for date, tokens_list in grouped_tokens.items():\n",
    "#     print(\"Date:\", date)\n",
    "#     for tokens in tokens_list:\n",
    "#         print(tokens)"
   ]
  },
  {
   "cell_type": "code",
   "execution_count": null,
   "metadata": {},
   "outputs": [],
   "source": [
    "pip install ekonlpy"
   ]
  },
  {
   "cell_type": "code",
   "execution_count": 31,
   "metadata": {},
   "outputs": [],
   "source": [
    "import konlpy as kn\n",
    "import MeCab as mc\n",
    "import ekonlpy as ek\n",
    "import pandas as pd\n",
    "import numpy as np\n",
    "from pandas import Series, DataFrame"
   ]
  },
  {
   "cell_type": "code",
   "execution_count": null,
   "metadata": {},
   "outputs": [],
   "source": [
    "from ekonlpy.tag import Mecab\n",
    "from ekonlpy.sentiment import MPCK\n",
    "mpck = MPCK()\n",
    "\n",
    "df = pd.read_json(\"news_test.json\")\n",
    "df = df.sort_values(by=[\"date\"], ascending=False)\n",
    "# 데이터프레임 확인\n",
    "\n",
    "df['token']=\"\" #빈 값을 가진 token column 추가\n",
    "df['ngram']=\"\" #빈 값을 가진 ngram column 추가\n",
    "\n",
    "for i, row in df.iterrows() :\n",
    "\n",
    "    try :\n",
    "        tmp_df = df['content']\n",
    "        #임시 데이터프레임에 불러온 기사의 본문 내용 리스트로 저장\n",
    "\n",
    "        tokens = mpck.tokenize(tmp_df[i])\n",
    "        row['token'] = '.'.join(tokens)\n",
    "        df.loc[i, 'token'] = row['token']\n",
    "        #eKoNLPy로 tokenizing 한 것을 데이터프레임에 column 추가\n",
    "\n",
    "        print(\"success\")\n",
    "        if i % 100 == 0 :\n",
    "            print('{}/{} : 성공'.format(i, df.shape[0]))\n",
    "    except Exception as ex :\n",
    "        print(\"fail\")\n",
    "        #print(\"{} : {}\".format(i, str(ex)))\n",
    "\n",
    "df.to_csv(\"news_test.csv\", mode='w')"
   ]
  },
  {
   "cell_type": "markdown",
   "metadata": {},
   "source": [
    "### ------------------------------------------------------"
   ]
  },
  {
   "cell_type": "code",
   "execution_count": null,
   "metadata": {},
   "outputs": [],
   "source": [
    "import pandas as pd\n",
    "from konlpy.tag import Mecab\n",
    "mecab = Mecab(dicpath=r\"C:\\mecab\\mecab-ko-dic\")"
   ]
  },
  {
   "cell_type": "code",
   "execution_count": null,
   "metadata": {},
   "outputs": [],
   "source": [
    "df = pd.read_json(\"news_test.json\")\n",
    "df = df.sort_values(by=[\"date\"], ascending=False)\n",
    "# 데이터프레임 확인\n",
    "print(df)"
   ]
  }
 ],
 "metadata": {
  "kernelspec": {
   "display_name": "base",
   "language": "python",
   "name": "python3"
  },
  "language_info": {
   "codemirror_mode": {
    "name": "ipython",
    "version": 3
   },
   "file_extension": ".py",
   "mimetype": "text/x-python",
   "name": "python",
   "nbconvert_exporter": "python",
   "pygments_lexer": "ipython3",
   "version": "3.11.5"
  }
 },
 "nbformat": 4,
 "nbformat_minor": 2
}
