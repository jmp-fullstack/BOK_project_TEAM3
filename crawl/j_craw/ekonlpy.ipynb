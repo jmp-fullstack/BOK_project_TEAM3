{
 "cells": [
  {
   "cell_type": "code",
   "execution_count": 1,
   "metadata": {},
   "outputs": [],
   "source": [
    "import json"
   ]
  },
  {
   "cell_type": "code",
   "execution_count": 3,
   "metadata": {},
   "outputs": [],
   "source": [
    "json_file_path = r'C:\\Users\\SDA17\\Desktop\\workspace\\BOK_project_TEAM3\\j_craw/text_by_date.json'\n",
    "\n",
    "with open(json_file_path,'r',encoding='utf-8') as file:\n",
    "    json_data = json.load(file)\n",
    "\n",
    "    "
   ]
  },
  {
   "cell_type": "code",
   "execution_count": null,
   "metadata": {},
   "outputs": [],
   "source": [
    "json_data"
   ]
  },
  {
   "cell_type": "code",
   "execution_count": null,
   "metadata": {},
   "outputs": [],
   "source": [
    "pip install ekonlpy"
   ]
  },
  {
   "cell_type": "code",
   "execution_count": null,
   "metadata": {},
   "outputs": [],
   "source": [
    "import json\n",
    "\n",
    "# JSON 파일 경로\n",
    "json_file_path = \"text_by_date.json\"\n",
    "\n",
    "# JSON 파일 불러오기\n",
    "with open(json_file_path, \"r\", encoding=\"utf-8\") as file:\n",
    "    json_data = file.read()\n",
    "\n",
    "# JSON 데이터 출력\n",
    "print(json_data)\n"
   ]
  },
  {
   "cell_type": "code",
   "execution_count": 32,
   "metadata": {},
   "outputs": [
    {
     "name": "stdout",
     "output_type": "stream",
     "text": [
      "True\n"
     ]
    }
   ],
   "source": [
    "import os\n",
    "\n",
    "json_file_path = \"text_by_date.json\"\n",
    "\n",
    "print(os.path.exists(json_file_path))\n"
   ]
  },
  {
   "cell_type": "code",
   "execution_count": 34,
   "metadata": {},
   "outputs": [],
   "source": [
    "# JSON 파일로 저장할 데이터\n",
    "data_to_save = {\n",
    "    \"example\": \"This is a test.\"\n",
    "}\n",
    "\n",
    "# JSON 파일 경로\n",
    "file_path = 'output.json'\n",
    "\n",
    "# JSON 파일 쓰기\n",
    "with open(file_path, 'w', encoding='utf-8') as file:\n",
    "    json.dump(data_to_save, file, ensure_ascii=False, indent=\"\\t\")\n"
   ]
  },
  {
   "cell_type": "code",
   "execution_count": 35,
   "metadata": {},
   "outputs": [
    {
     "name": "stdout",
     "output_type": "stream",
     "text": [
      "['EKoNLPy', '를', '사용', '하', '여', '텍스트', '데이터', '를', '분석', '합니다', '.']\n"
     ]
    }
   ],
   "source": [
    "from ekonlpy.tag import Mecab\n",
    "\n",
    "# Mecab 형태소 분석기 인스턴스 생성\n",
    "mecab = Mecab()\n",
    "\n",
    "# 분석할 텍스트\n",
    "text = \"EKoNLPy를 사용하여 텍스트 데이터를 분석합니다.\"\n",
    "\n",
    "# 형태소 분석\n",
    "morphs = mecab.morphs(text)\n",
    "\n",
    "print(morphs)\n"
   ]
  },
  {
   "cell_type": "code",
   "execution_count": 36,
   "metadata": {},
   "outputs": [
    {
     "name": "stdout",
     "output_type": "stream",
     "text": [
      "데이터가 날짜별로 정리되어 text_by_date_sorted.json 파일로 저장되었습니다.\n"
     ]
    }
   ],
   "source": [
    "import json\n",
    "\n",
    "# JSON 파일 경로\n",
    "json_file_path = \"text_by_date.json\"\n",
    "\n",
    "# JSON 파일 읽기\n",
    "with open(json_file_path, \"r\", encoding=\"utf-8\") as file:\n",
    "    json_data = json.load(file)\n",
    "\n",
    "# 날짜별로 데이터 정리\n",
    "date_wise_data = {}\n",
    "\n",
    "for key, value in json_data.items():\n",
    "    # key에서 날짜 정보 추출\n",
    "    date = key[:8]  # 예를 들어, \"1211247153\"에서 \"12112471\" 추출\n",
    "    if date not in date_wise_data:\n",
    "        date_wise_data[date] = []\n",
    "    # 해당 날짜에 데이터 추가\n",
    "    date_wise_data[date].extend(value)\n",
    "\n",
    "# 새로운 JSON 파일로 저장\n",
    "output_json_file = \"text_by_date_sorted.json\"\n",
    "with open(output_json_file, \"w\", encoding=\"utf-8\") as file:\n",
    "    json.dump(date_wise_data, file, ensure_ascii=False, indent=4)\n",
    "\n",
    "print(\"데이터가 날짜별로 정리되어\", output_json_file, \"파일로 저장되었습니다.\")\n"
   ]
  },
  {
   "cell_type": "code",
   "execution_count": 50,
   "metadata": {},
   "outputs": [],
   "source": [
    "import json\n",
    "\n",
    "# JSON 파일 불러오기\n",
    "json_file_path = \"text_by_date.json\"\n",
    "\n",
    "with open(json_file_path, \"r\", encoding=\"utf-8\") as file:\n",
    "    json_data = json.load(file)\n",
    "\n",
    "# 변환된 데이터를 저장할 딕셔너리 초기화\n",
    "date_wise_data = {}\n",
    "\n",
    "# 데이터셋의 각 항목에 대해 작업 수행\n",
    "for date, value in json_data.items():\n",
    "    # 데이터셋에서 이미 날짜가 포함되어 있다고 가정하고, 해당 날짜를 그대로 사용\n",
    "    if date not in date_wise_data:\n",
    "        date_wise_data[date] = value\n",
    "\n",
    "# 변환된 데이터셋을 JSON 파일로 저장\n",
    "output_json_file_path = \"text_by_date_modified.json\"\n",
    "with open(output_json_file_path, \"w\", encoding=\"utf-8\") as outfile:\n",
    "    json.dump(date_wise_data, outfile, ensure_ascii=False, indent=4)\n"
   ]
  },
  {
   "cell_type": "code",
   "execution_count": 51,
   "metadata": {},
   "outputs": [],
   "source": [
    "import json\n",
    "\n",
    "# JSON 파일 불러오기\n",
    "json_file_path = \"text_by_date.json\"\n",
    "\n",
    "with open(json_file_path, \"r\", encoding=\"utf-8\") as file:\n",
    "    json_data = json.load(file)\n",
    "\n",
    "# 변환된 데이터를 저장할 딕셔너리 초기화\n",
    "date_wise_data = {}\n",
    "\n",
    "# 데이터셋의 각 항목에 대해 작업 수행\n",
    "for date, data_list in json_data.items():\n",
    "    # 날짜를 포함한 새로운 데이터 리스트 생성\n",
    "    new_data_list = []\n",
    "    for data in data_list:\n",
    "        # 날짜와 데이터를 조합하여 새로운 형식의 데이터로 변경\n",
    "        new_data = f\"{date} {data}\"\n",
    "        new_data_list.append(new_data)\n",
    "    \n",
    "    # 변환된 날짜별 데이터를 딕셔너리에 추가\n",
    "    date_wise_data[date] = new_data_list\n",
    "\n",
    "# 변환된 데이터셋을 JSON 파일로 저장\n",
    "output_json_file_path = \"text_by_date_with_date.json\"\n",
    "with open(output_json_file_path, \"w\", encoding=\"utf-8\") as outfile:\n",
    "    json.dump(date_wise_data, outfile, ensure_ascii=False, indent=4)\n"
   ]
  },
  {
   "cell_type": "code",
   "execution_count": 1,
   "metadata": {},
   "outputs": [
    {
     "name": "stdout",
     "output_type": "stream",
     "text": [
      "데이터셋이 성공적으로 수정되어 새로운 JSON 파일에 저장되었습니다.\n"
     ]
    }
   ],
   "source": [
    "import json\n",
    "\n",
    "# 기존 JSON 파일 경로와 수정된 JSON 파일 경로\n",
    "json_file_path = \"text_by_date.json\"\n",
    "new_json_file_path = \"text_by_date_modified.json\"\n",
    "\n",
    "# 타임스탬프 수정 함수\n",
    "def fix_timestamp(timestamp):\n",
    "    # 타임스탬프 처리 및 수정 로직을 여기에 구현\n",
    "    # 예를 들어, 올바른 범위 내의 타임스탬프인지 확인하고, 필요한 경우 수정하여 반환\n",
    "    if is_valid_timestamp(timestamp):\n",
    "        return timestamp\n",
    "    else:\n",
    "        # 필요한 경우 타임스탬프를 수정하여 반환\n",
    "        fixed_timestamp = modify_timestamp(timestamp)\n",
    "        return fixed_timestamp\n",
    "\n",
    "# 데이터셋 로드\n",
    "with open(json_file_path, \"r\", encoding=\"utf-8\") as file:\n",
    "    data = json.load(file)\n",
    "\n",
    "# 데이터셋 수정\n",
    "for key, value in data.items():\n",
    "    # 타임스탬프 수정\n",
    "    if key == \"timestamp\":\n",
    "        data[key] = fix_timestamp(value)\n",
    "\n",
    "# 수정된 데이터를 새로운 JSON 파일에 저장\n",
    "with open(new_json_file_path, \"w\", encoding=\"utf-8\") as new_file:\n",
    "    json.dump(data, new_file, ensure_ascii=False, indent=4)\n",
    "\n",
    "print(\"데이터셋이 성공적으로 수정되어 새로운 JSON 파일에 저장되었습니다.\")\n"
   ]
  },
  {
   "cell_type": "code",
   "execution_count": 27,
   "metadata": {},
   "outputs": [
    {
     "name": "stdout",
     "output_type": "stream",
     "text": [
      "날짜와 텍스트가 성공적으로 JSON 파일에 저장되었습니다.\n"
     ]
    }
   ],
   "source": [
    "import os\n",
    "import fitz  # PyMuPDF 사용\n",
    "import re\n",
    "import json\n",
    "\n",
    "# PDF 파일이 있는 디렉토리 경로\n",
    "pdf_dir = r'C:\\Users\\SDA17\\Desktop\\workspace\\BOK_project_TEAM3\\j_craw\\pdf_files'\n",
    "\n",
    "# JSON 데이터를 저장할 리스트\n",
    "data_list = []\n",
    "\n",
    "# 모든 PDF 파일을 읽어서 텍스트 추출 및 날짜 데이터 크롤링\n",
    "for filename in os.listdir(pdf_dir):\n",
    "    if filename.endswith('.pdf'):\n",
    "        pdf_path = os.path.join(pdf_dir, filename)\n",
    "        try:\n",
    "            doc = fitz.open(pdf_path)\n",
    "            for page_num in range(len(doc)):\n",
    "                page = doc.load_page(page_num)\n",
    "                text = page.get_text()\n",
    "                # 정규 표현식을 사용하여 날짜 데이터 추출\n",
    "                dates = re.findall(r'\\d{4}-\\d{2}-\\d{2}', text)\n",
    "                # 추출된 날짜 데이터와 텍스트를 리스트에 추가\n",
    "                for date in dates:\n",
    "                    data_list.append({\"date\": date, \"text\": text})\n",
    "        except Exception as e:\n",
    "            print(f\"파일 '{filename}'를 처리하는 중에 오류가 발생했습니다: {e}\")\n",
    "            continue\n",
    "\n",
    "# JSON 파일로 저장\n",
    "output_file_path = \"text_and_date.json\"\n",
    "with open(output_file_path, \"w\", encoding=\"utf-8\") as json_file:\n",
    "    json.dump(data_list, json_file, ensure_ascii=False, indent=4)\n",
    "\n",
    "print(\"날짜와 텍스트가 성공적으로 JSON 파일에 저장되었습니다.\")\n"
   ]
  },
  {
   "cell_type": "code",
   "execution_count": null,
   "metadata": {},
   "outputs": [],
   "source": [
    "json_data"
   ]
  }
 ],
 "metadata": {
  "kernelspec": {
   "display_name": "study",
   "language": "python",
   "name": "python3"
  },
  "language_info": {
   "codemirror_mode": {
    "name": "ipython",
    "version": 3
   },
   "file_extension": ".py",
   "mimetype": "text/x-python",
   "name": "python",
   "nbconvert_exporter": "python",
   "pygments_lexer": "ipython3",
   "version": "3.10.13"
  }
 },
 "nbformat": 4,
 "nbformat_minor": 2
}
